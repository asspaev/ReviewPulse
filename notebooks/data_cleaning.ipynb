{
 "cells": [
  {
   "cell_type": "markdown",
   "metadata": {},
   "source": [
    "# Импорты"
   ]
  },
  {
   "cell_type": "code",
   "execution_count": 1,
   "metadata": {},
   "outputs": [],
   "source": [
    "import os\n",
    "import pandas as pd"
   ]
  },
  {
   "cell_type": "markdown",
   "metadata": {},
   "source": [
    "# Импорт данных"
   ]
  },
  {
   "cell_type": "markdown",
   "metadata": {},
   "source": [
    "Получим список существующих спарсенных категорий"
   ]
  },
  {
   "cell_type": "code",
   "execution_count": 34,
   "metadata": {},
   "outputs": [
    {
     "data": {
      "text/plain": [
       "['obuvmuzhskayakedy_i_krossovki.csv']"
      ]
     },
     "execution_count": 34,
     "metadata": {},
     "output_type": "execute_result"
    }
   ],
   "source": [
    "path_catalogs = './../data/raw/catalogs'\n",
    "files_catalogs = os.listdir(path_catalogs)\n",
    "files_catalogs"
   ]
  },
  {
   "cell_type": "markdown",
   "metadata": {},
   "source": [
    "Спарсим таблицы"
   ]
  },
  {
   "cell_type": "code",
   "execution_count": 35,
   "metadata": {},
   "outputs": [
    {
     "name": "stdout",
     "output_type": "stream",
     "text": [
      "Спарсено каталогов: 1\n"
     ]
    }
   ],
   "source": [
    "dfs_calatalog = []\n",
    "\n",
    "for f in files_catalogs:\n",
    "    df = pd.read_csv(f'{path_catalogs}/{f}')\n",
    "    dfs_calatalog.append(df)\n",
    "\n",
    "print(f'Спарсено каталогов: {len(dfs_calatalog)}')"
   ]
  },
  {
   "cell_type": "markdown",
   "metadata": {},
   "source": [
    "# Очистка данных"
   ]
  },
  {
   "cell_type": "markdown",
   "metadata": {},
   "source": [
    "Посмотрим на одну из таблиц с данными спарсенного каталога. Каждый продукт имеет свои данные с отзывами."
   ]
  },
  {
   "cell_type": "code",
   "execution_count": 36,
   "metadata": {},
   "outputs": [
    {
     "data": {
      "text/html": [
       "<div>\n",
       "<style scoped>\n",
       "    .dataframe tbody tr th:only-of-type {\n",
       "        vertical-align: middle;\n",
       "    }\n",
       "\n",
       "    .dataframe tbody tr th {\n",
       "        vertical-align: top;\n",
       "    }\n",
       "\n",
       "    .dataframe thead th {\n",
       "        text-align: right;\n",
       "    }\n",
       "</style>\n",
       "<table border=\"1\" class=\"dataframe\">\n",
       "  <thead>\n",
       "    <tr style=\"text-align: right;\">\n",
       "      <th></th>\n",
       "      <th>product_article</th>\n",
       "      <th>product_name</th>\n",
       "      <th>product_rating</th>\n",
       "      <th>count_reviews</th>\n",
       "    </tr>\n",
       "  </thead>\n",
       "  <tbody>\n",
       "    <tr>\n",
       "      <th>0</th>\n",
       "      <td>276942833</td>\n",
       "      <td>Кроссовки SNEAKERS</td>\n",
       "      <td>Нет оценок</td>\n",
       "      <td>0</td>\n",
       "    </tr>\n",
       "    <tr>\n",
       "      <th>1</th>\n",
       "      <td>250224621</td>\n",
       "      <td>Кроссовки утепленные с мехом</td>\n",
       "      <td>4,7</td>\n",
       "      <td>100</td>\n",
       "    </tr>\n",
       "    <tr>\n",
       "      <th>2</th>\n",
       "      <td>259646173</td>\n",
       "      <td>Кроссовки мужские зимние с мехом высокие</td>\n",
       "      <td>4,6</td>\n",
       "      <td>100</td>\n",
       "    </tr>\n",
       "    <tr>\n",
       "      <th>3</th>\n",
       "      <td>252655283</td>\n",
       "      <td>кроссовки зимние</td>\n",
       "      <td>4,7</td>\n",
       "      <td>100</td>\n",
       "    </tr>\n",
       "    <tr>\n",
       "      <th>4</th>\n",
       "      <td>250220847</td>\n",
       "      <td>Кроссовки утепленные с мехом</td>\n",
       "      <td>4,7</td>\n",
       "      <td>100</td>\n",
       "    </tr>\n",
       "  </tbody>\n",
       "</table>\n",
       "</div>"
      ],
      "text/plain": [
       "   product_article                              product_name product_rating  \\\n",
       "0        276942833                        Кроссовки SNEAKERS     Нет оценок   \n",
       "1        250224621              Кроссовки утепленные с мехом            4,7   \n",
       "2        259646173  Кроссовки мужские зимние с мехом высокие            4,6   \n",
       "3        252655283                          кроссовки зимние            4,7   \n",
       "4        250220847              Кроссовки утепленные с мехом            4,7   \n",
       "\n",
       "   count_reviews  \n",
       "0              0  \n",
       "1            100  \n",
       "2            100  \n",
       "3            100  \n",
       "4            100  "
      ]
     },
     "execution_count": 36,
     "metadata": {},
     "output_type": "execute_result"
    }
   ],
   "source": [
    "dfs_calatalog[0].head()"
   ]
  },
  {
   "cell_type": "markdown",
   "metadata": {},
   "source": [
    "## Пример очистки данных на одной категории товаров"
   ]
  },
  {
   "cell_type": "markdown",
   "metadata": {},
   "source": [
    "Так как на данный момент спарсен только 1 каталог, то очистим пошагово его. В дальнейшем можно будет свести в цикл для автоматизации."
   ]
  },
  {
   "cell_type": "code",
   "execution_count": 37,
   "metadata": {},
   "outputs": [],
   "source": [
    "df = dfs_calatalog[0]"
   ]
  },
  {
   "cell_type": "markdown",
   "metadata": {},
   "source": [
    "### Удаление пустых значений"
   ]
  },
  {
   "cell_type": "markdown",
   "metadata": {},
   "source": [
    "Посмотрим на уникальные значения"
   ]
  },
  {
   "cell_type": "code",
   "execution_count": 38,
   "metadata": {},
   "outputs": [
    {
     "name": "stdout",
     "output_type": "stream",
     "text": [
      "['Нет оценок' '4,7' '4,6' '4,3' '4,8' '4,5' '4,9' '4,4']\n",
      "[  0 100  65  82  79  30  42  24  31  10  78  40  63  23  96   9  32  12]\n"
     ]
    }
   ],
   "source": [
    "print(df['product_rating'].unique())\n",
    "print(df['count_reviews'].unique())"
   ]
  },
  {
   "cell_type": "markdown",
   "metadata": {},
   "source": [
    "Видим товары без оценок, удалим их."
   ]
  },
  {
   "cell_type": "code",
   "execution_count": 39,
   "metadata": {},
   "outputs": [
    {
     "data": {
      "text/html": [
       "<div>\n",
       "<style scoped>\n",
       "    .dataframe tbody tr th:only-of-type {\n",
       "        vertical-align: middle;\n",
       "    }\n",
       "\n",
       "    .dataframe tbody tr th {\n",
       "        vertical-align: top;\n",
       "    }\n",
       "\n",
       "    .dataframe thead th {\n",
       "        text-align: right;\n",
       "    }\n",
       "</style>\n",
       "<table border=\"1\" class=\"dataframe\">\n",
       "  <thead>\n",
       "    <tr style=\"text-align: right;\">\n",
       "      <th></th>\n",
       "      <th>product_article</th>\n",
       "      <th>product_name</th>\n",
       "      <th>product_rating</th>\n",
       "      <th>count_reviews</th>\n",
       "    </tr>\n",
       "  </thead>\n",
       "  <tbody>\n",
       "    <tr>\n",
       "      <th>1</th>\n",
       "      <td>250224621</td>\n",
       "      <td>Кроссовки утепленные с мехом</td>\n",
       "      <td>4,7</td>\n",
       "      <td>100</td>\n",
       "    </tr>\n",
       "    <tr>\n",
       "      <th>2</th>\n",
       "      <td>259646173</td>\n",
       "      <td>Кроссовки мужские зимние с мехом высокие</td>\n",
       "      <td>4,6</td>\n",
       "      <td>100</td>\n",
       "    </tr>\n",
       "    <tr>\n",
       "      <th>3</th>\n",
       "      <td>252655283</td>\n",
       "      <td>кроссовки зимние</td>\n",
       "      <td>4,7</td>\n",
       "      <td>100</td>\n",
       "    </tr>\n",
       "    <tr>\n",
       "      <th>4</th>\n",
       "      <td>250220847</td>\n",
       "      <td>Кроссовки утепленные с мехом</td>\n",
       "      <td>4,7</td>\n",
       "      <td>100</td>\n",
       "    </tr>\n",
       "    <tr>\n",
       "      <th>5</th>\n",
       "      <td>252655288</td>\n",
       "      <td>кроссовки зимние</td>\n",
       "      <td>4,7</td>\n",
       "      <td>100</td>\n",
       "    </tr>\n",
       "  </tbody>\n",
       "</table>\n",
       "</div>"
      ],
      "text/plain": [
       "   product_article                              product_name product_rating  \\\n",
       "1        250224621              Кроссовки утепленные с мехом            4,7   \n",
       "2        259646173  Кроссовки мужские зимние с мехом высокие            4,6   \n",
       "3        252655283                          кроссовки зимние            4,7   \n",
       "4        250220847              Кроссовки утепленные с мехом            4,7   \n",
       "5        252655288                          кроссовки зимние            4,7   \n",
       "\n",
       "   count_reviews  \n",
       "1            100  \n",
       "2            100  \n",
       "3            100  \n",
       "4            100  \n",
       "5            100  "
      ]
     },
     "execution_count": 39,
     "metadata": {},
     "output_type": "execute_result"
    }
   ],
   "source": [
    "df = df[df['product_rating'] != 'Нет оценок']\n",
    "df = df[df['count_reviews'] != 0]\n",
    "df.head()"
   ]
  },
  {
   "cell_type": "markdown",
   "metadata": {},
   "source": [
    "Убедимся, что удалили"
   ]
  },
  {
   "cell_type": "code",
   "execution_count": 40,
   "metadata": {},
   "outputs": [
    {
     "name": "stdout",
     "output_type": "stream",
     "text": [
      "['4,7' '4,6' '4,3' '4,8' '4,5' '4,9' '4,4']\n",
      "[100  65  82  79  30  42  24  31  10  78  40  63  23  96   9  32  12]\n"
     ]
    }
   ],
   "source": [
    "print(df['product_rating'].unique())\n",
    "print(df['count_reviews'].unique())"
   ]
  },
  {
   "cell_type": "markdown",
   "metadata": {},
   "source": [
    "### Удаление дубликатов"
   ]
  },
  {
   "cell_type": "markdown",
   "metadata": {},
   "source": [
    "Бывает такое, что артикулы у товаров разные, но отзывы одни. Так как они созданы на одной странице товара, просто есть вариации товара. Для того чтобы понять, что это как раз этот случай — посмотрим на отзывы, так как у таких товаров одинаковые отзывы."
   ]
  },
  {
   "cell_type": "markdown",
   "metadata": {},
   "source": [
    "Удалим дубликаты, посредством сравнения."
   ]
  },
  {
   "cell_type": "code",
   "execution_count": 84,
   "metadata": {},
   "outputs": [
    {
     "name": "stdout",
     "output_type": "stream",
     "text": [
      "['117770325.csv', '139698183.csv', '151507501.csv', '152272886.csv', '162306347.csv', '173928321.csv', '174535740.csv', '181318672.csv', '181542776.csv', '185600107.csv', '188783806.csv', '195459626.csv', '196143846.csv', '198140910.csv', '199542402.csv', '201389378.csv', '203589701.csv', '20927763.csv', '210689888.csv', '211305205.csv', '211628009.csv', '211875011.csv', '211877606.csv', '211877607.csv', '212943299.csv', '214860098.csv', '218797175.csv', '222116336.csv', '226121043.csv', '226121121.csv', '226121136.csv', '226121155.csv', '227834857.csv', '228653361.csv', '228653363.csv', '228653911.csv', '228653913.csv', '235210388.csv', '240648941.csv', '240648943.csv', '240652777.csv', '241002861.csv', '243487597.csv', '244772824.csv', '245171328.csv', '245171336.csv', '245171337.csv', '246433796.csv', '246434037.csv', '246434109.csv', '246434110.csv', '246454214.csv', '250220847.csv', '250224621.csv', '252655283.csv', '252655284.csv', '252655288.csv', '256315510.csv', '256874830.csv', '256874832.csv', '258468744.csv', '258930998.csv', '259646173.csv', '259680703.csv', '260552937.csv', '260552941.csv', '262119987.csv', '262422888.csv', '262429948.csv', '262496366.csv', '262652515.csv', '263135831.csv', '263136357.csv', '263136872.csv', '263413697.csv', '263435729.csv', '263660888.csv', '265989233.csv', '266574965.csv', '268858149.csv', '269359209.csv', '270448029.csv', '276157795.csv', '276942833.csv', '282233443.csv', '282233444.csv', '282233445.csv', '6153738.csv', '6153739.csv', '6153740.csv', '6153741.csv', '6153742.csv', '6153743.csv', '6153745.csv', '73832409.csv', '8241271.csv', '95866802.csv', '9778842.csv']\n",
      "УСПЕХ! Сохранён уникальный отзыв 117770325.csv. Размер df_clean = (99, 4)\n",
      "УСПЕХ! Сохранён уникальный отзыв 139698183.csv. Размер df_clean = (99, 4)\n",
      "УСПЕХ! Сохранён уникальный отзыв 151507501.csv. Размер df_clean = (99, 4)\n",
      "УСПЕХ! Сохранён уникальный отзыв 152272886.csv. Размер df_clean = (99, 4)\n",
      "УСПЕХ! Сохранён уникальный отзыв 162306347.csv. Размер df_clean = (99, 4)\n",
      "УСПЕХ! Сохранён уникальный отзыв 173928321.csv. Размер df_clean = (99, 4)\n",
      "УСПЕХ! Сохранён уникальный отзыв 174535740.csv. Размер df_clean = (99, 4)\n",
      "УСПЕХ! Сохранён уникальный отзыв 181318672.csv. Размер df_clean = (99, 4)\n",
      "УСПЕХ! Сохранён уникальный отзыв 181542776.csv. Размер df_clean = (99, 4)\n",
      "УСПЕХ! Сохранён уникальный отзыв 185600107.csv. Размер df_clean = (99, 4)\n",
      "УСПЕХ! Сохранён уникальный отзыв 188783806.csv. Размер df_clean = (99, 4)\n",
      "УСПЕХ! Сохранён уникальный отзыв 195459626.csv. Размер df_clean = (99, 4)\n",
      "ОШИБКА! Найдено совпадение у файла 196143846.csv и 262119987.csv. Размер df_clean = (98, 4)\n",
      "УСПЕХ! Сохранён уникальный отзыв 196143846.csv. Размер df_clean = (98, 4)\n",
      "УСПЕХ! Сохранён уникальный отзыв 198140910.csv. Размер df_clean = (98, 4)\n",
      "УСПЕХ! Сохранён уникальный отзыв 199542402.csv. Размер df_clean = (98, 4)\n",
      "ОШИБКА! Найдено совпадение у файла 201389378.csv и 212943299.csv. Размер df_clean = (97, 4)\n",
      "УСПЕХ! Сохранён уникальный отзыв 201389378.csv. Размер df_clean = (97, 4)\n",
      "ОШИБКА! Найдено совпадение у файла 203589701.csv и 211305205.csv. Размер df_clean = (96, 4)\n",
      "УСПЕХ! Сохранён уникальный отзыв 203589701.csv. Размер df_clean = (96, 4)\n",
      "УСПЕХ! Сохранён уникальный отзыв 20927763.csv. Размер df_clean = (96, 4)\n",
      "УСПЕХ! Сохранён уникальный отзыв 210689888.csv. Размер df_clean = (96, 4)\n",
      "УСПЕХ! Сохранён уникальный отзыв 211628009.csv. Размер df_clean = (96, 4)\n",
      "УСПЕХ! Сохранён уникальный отзыв 211875011.csv. Размер df_clean = (96, 4)\n",
      "УСПЕХ! Сохранён уникальный отзыв 211877606.csv. Размер df_clean = (96, 4)\n",
      "УСПЕХ! Сохранён уникальный отзыв 211877607.csv. Размер df_clean = (96, 4)\n",
      "УСПЕХ! Сохранён уникальный отзыв 214860098.csv. Размер df_clean = (96, 4)\n",
      "УСПЕХ! Сохранён уникальный отзыв 218797175.csv. Размер df_clean = (96, 4)\n",
      "УСПЕХ! Сохранён уникальный отзыв 222116336.csv. Размер df_clean = (96, 4)\n",
      "УСПЕХ! Сохранён уникальный отзыв 226121043.csv. Размер df_clean = (96, 4)\n",
      "УСПЕХ! Сохранён уникальный отзыв 226121121.csv. Размер df_clean = (96, 4)\n",
      "УСПЕХ! Сохранён уникальный отзыв 226121136.csv. Размер df_clean = (96, 4)\n",
      "УСПЕХ! Сохранён уникальный отзыв 226121155.csv. Размер df_clean = (96, 4)\n",
      "УСПЕХ! Сохранён уникальный отзыв 227834857.csv. Размер df_clean = (96, 4)\n",
      "ОШИБКА! Найдено совпадение у файла 228653361.csv и 228653363.csv. Размер df_clean = (95, 4)\n",
      "УСПЕХ! Сохранён уникальный отзыв 228653361.csv. Размер df_clean = (95, 4)\n",
      "УСПЕХ! Сохранён уникальный отзыв 228653911.csv. Размер df_clean = (95, 4)\n",
      "УСПЕХ! Сохранён уникальный отзыв 228653913.csv. Размер df_clean = (95, 4)\n",
      "УСПЕХ! Сохранён уникальный отзыв 235210388.csv. Размер df_clean = (95, 4)\n",
      "УСПЕХ! Сохранён уникальный отзыв 240648941.csv. Размер df_clean = (95, 4)\n",
      "УСПЕХ! Сохранён уникальный отзыв 240648943.csv. Размер df_clean = (95, 4)\n",
      "УСПЕХ! Сохранён уникальный отзыв 240652777.csv. Размер df_clean = (95, 4)\n",
      "УСПЕХ! Сохранён уникальный отзыв 241002861.csv. Размер df_clean = (95, 4)\n",
      "УСПЕХ! Сохранён уникальный отзыв 243487597.csv. Размер df_clean = (95, 4)\n",
      "УСПЕХ! Сохранён уникальный отзыв 244772824.csv. Размер df_clean = (95, 4)\n",
      "УСПЕХ! Сохранён уникальный отзыв 245171328.csv. Размер df_clean = (95, 4)\n",
      "УСПЕХ! Сохранён уникальный отзыв 245171336.csv. Размер df_clean = (95, 4)\n",
      "УСПЕХ! Сохранён уникальный отзыв 245171337.csv. Размер df_clean = (95, 4)\n",
      "УСПЕХ! Сохранён уникальный отзыв 246433796.csv. Размер df_clean = (95, 4)\n",
      "УСПЕХ! Сохранён уникальный отзыв 246434037.csv. Размер df_clean = (95, 4)\n",
      "ОШИБКА! Найдено совпадение у файла 246434109.csv и 246434110.csv. Размер df_clean = (94, 4)\n",
      "УСПЕХ! Сохранён уникальный отзыв 246434109.csv. Размер df_clean = (94, 4)\n",
      "УСПЕХ! Сохранён уникальный отзыв 246454214.csv. Размер df_clean = (94, 4)\n",
      "ОШИБКА! Найдено совпадение у файла 250220847.csv и 250224621.csv. Размер df_clean = (93, 4)\n",
      "УСПЕХ! Сохранён уникальный отзыв 250220847.csv. Размер df_clean = (93, 4)\n",
      "ОШИБКА! Найдено совпадение у файла 252655283.csv и 252655284.csv. Размер df_clean = (92, 4)\n",
      "УСПЕХ! Сохранён уникальный отзыв 252655283.csv. Размер df_clean = (92, 4)\n",
      "ОШИБКА! Отзыв 252655288.csv уже сохранён! Размер df_clean = (91, 4)\n",
      "УСПЕХ! Сохранён уникальный отзыв 256315510.csv. Размер df_clean = (91, 4)\n",
      "УСПЕХ! Сохранён уникальный отзыв 256874830.csv. Размер df_clean = (91, 4)\n",
      "УСПЕХ! Сохранён уникальный отзыв 256874832.csv. Размер df_clean = (91, 4)\n",
      "ОШИБКА! Найдено совпадение у файла 258468744.csv и 282233443.csv. Размер df_clean = (90, 4)\n",
      "УСПЕХ! Сохранён уникальный отзыв 258468744.csv. Размер df_clean = (90, 4)\n",
      "УСПЕХ! Сохранён уникальный отзыв 258930998.csv. Размер df_clean = (90, 4)\n",
      "УСПЕХ! Сохранён уникальный отзыв 259646173.csv. Размер df_clean = (90, 4)\n",
      "ОШИБКА! Найдено совпадение у файла 259680703.csv и 260552937.csv. Размер df_clean = (89, 4)\n",
      "УСПЕХ! Сохранён уникальный отзыв 259680703.csv. Размер df_clean = (89, 4)\n",
      "ОШИБКА! Отзыв 260552941.csv уже сохранён! Размер df_clean = (88, 4)\n",
      "УСПЕХ! Сохранён уникальный отзыв 262422888.csv. Размер df_clean = (88, 4)\n",
      "УСПЕХ! Сохранён уникальный отзыв 262429948.csv. Размер df_clean = (88, 4)\n",
      "УСПЕХ! Сохранён уникальный отзыв 262496366.csv. Размер df_clean = (88, 4)\n",
      "УСПЕХ! Сохранён уникальный отзыв 262652515.csv. Размер df_clean = (88, 4)\n",
      "ОШИБКА! Найдено совпадение у файла 263135831.csv и 263136357.csv. Размер df_clean = (87, 4)\n",
      "УСПЕХ! Сохранён уникальный отзыв 263135831.csv. Размер df_clean = (87, 4)\n",
      "ОШИБКА! Отзыв 263136872.csv уже сохранён! Размер df_clean = (86, 4)\n",
      "УСПЕХ! Сохранён уникальный отзыв 263413697.csv. Размер df_clean = (86, 4)\n",
      "УСПЕХ! Сохранён уникальный отзыв 263435729.csv. Размер df_clean = (86, 4)\n",
      "УСПЕХ! Сохранён уникальный отзыв 263660888.csv. Размер df_clean = (86, 4)\n",
      "ОШИБКА! Найдено совпадение у файла 265989233.csv и 268858149.csv. Размер df_clean = (85, 4)\n",
      "УСПЕХ! Сохранён уникальный отзыв 265989233.csv. Размер df_clean = (85, 4)\n",
      "УСПЕХ! Сохранён уникальный отзыв 266574965.csv. Размер df_clean = (85, 4)\n",
      "УСПЕХ! Сохранён уникальный отзыв 269359209.csv. Размер df_clean = (85, 4)\n",
      "УСПЕХ! Сохранён уникальный отзыв 270448029.csv. Размер df_clean = (85, 4)\n",
      "УСПЕХ! Сохранён уникальный отзыв 276157795.csv. Размер df_clean = (85, 4)\n",
      "УСПЕХ! Сохранён уникальный отзыв 276942833.csv. Размер df_clean = (85, 4)\n",
      "ОШИБКА! Найдено совпадение у файла 282233444.csv и 282233445.csv. Размер df_clean = (84, 4)\n",
      "УСПЕХ! Сохранён уникальный отзыв 282233444.csv. Размер df_clean = (84, 4)\n",
      "ОШИБКА! Найдено совпадение у файла 6153738.csv и 6153739.csv. Размер df_clean = (83, 4)\n",
      "ОШИБКА! Найдено совпадение у файла 6153738.csv и 6153741.csv. Размер df_clean = (82, 4)\n",
      "УСПЕХ! Сохранён уникальный отзыв 6153738.csv. Размер df_clean = (82, 4)\n",
      "УСПЕХ! Сохранён уникальный отзыв 6153740.csv. Размер df_clean = (82, 4)\n",
      "ОШИБКА! Найдено совпадение у файла 6153742.csv и 6153743.csv. Размер df_clean = (81, 4)\n",
      "ОШИБКА! Найдено совпадение у файла 6153742.csv и 8241271.csv. Размер df_clean = (80, 4)\n",
      "УСПЕХ! Сохранён уникальный отзыв 6153742.csv. Размер df_clean = (80, 4)\n",
      "ОШИБКА! Отзыв 6153745.csv уже сохранён! Размер df_clean = (79, 4)\n",
      "УСПЕХ! Сохранён уникальный отзыв 73832409.csv. Размер df_clean = (79, 4)\n",
      "УСПЕХ! Сохранён уникальный отзыв 95866802.csv. Размер df_clean = (79, 4)\n",
      "УСПЕХ! Сохранён уникальный отзыв 9778842.csv. Размер df_clean = (79, 4)\n"
     ]
    }
   ],
   "source": [
    "path_reviews = f'./../data/raw/reviews/{files_catalogs[0][:-4]}'\n",
    "files_reviews = os.listdir(path_reviews)\n",
    "print(files_reviews)\n",
    "df_clean = df\n",
    "\n",
    "for f_main in files_reviews:\n",
    "    df_main = pd.read_csv(f'{path_reviews}/{f_main}')\n",
    "    path_save_reviews = f'./../data/clean/reviews/{files_catalogs[0][:-4]}'\n",
    "    os.makedirs(path_save_reviews, exist_ok=True)\n",
    "    files_save_reviews = os.listdir(path_save_reviews)\n",
    "    are_equal = False\n",
    "\n",
    "    # Сравниваем с сохранёнными файлами\n",
    "    for f_save in files_save_reviews:\n",
    "        df_save = pd.read_csv(f'{path_reviews}/{f_save}')\n",
    "        are_equal = df_main.equals(df_save)\n",
    "        if are_equal:  # если df_save == df_main\n",
    "            df_clean = df_clean[df_clean['product_article'] != int(f_main[:-4])]  # удалить текущее значение из таблицу\n",
    "            print(f'ОШИБКА! Отзыв {f_main} уже сохранён! Размер df_clean = {df_clean.shape}')\n",
    "            break\n",
    "    \n",
    "    # Сравниваем с несохранёнными файлами\n",
    "    if are_equal == False:\n",
    "        for f_equal in files_reviews:\n",
    "            df_equal = pd.read_csv(f'{path_reviews}/{f_equal}')\n",
    "            are_equal = df_main.equals(df_equal)\n",
    "            if are_equal:  # если df_equal == df_main\n",
    "                if f_main == f_equal:  # если это\n",
    "                    df_main.to_csv(f'./../data/clean/reviews/{files_catalogs[0][:-4]}/{f_main}', index=False)\n",
    "                    # print(f'Найден сравняемый файл, сохраняем его {f_main}')\n",
    "                else:\n",
    "                    files_reviews.remove(f_equal)\n",
    "                    df_clean = df_clean[df_clean['product_article'] != int(f_equal[:-4])]  # удалить текущее значение из таблицу\n",
    "                    print(f'ОШИБКА! Найдено совпадение у файла {f_main} и {f_equal}. Размер df_clean = {df_clean.shape}')\n",
    "        df_main.to_csv(f'./../data/clean/reviews/{files_catalogs[0][:-4]}/{f_main}', index=False)\n",
    "        print(f'УСПЕХ! Сохранён уникальный отзыв {f_main}. Размер df_clean = {df_clean.shape}')\n",
    "        \n",
    "df_clean.to_csv(f'./../data/clean/catalogs/{files_catalogs[0]}', index=False)"
   ]
  }
 ],
 "metadata": {
  "kernelspec": {
   "display_name": ".venv",
   "language": "python",
   "name": "python3"
  },
  "language_info": {
   "codemirror_mode": {
    "name": "ipython",
    "version": 3
   },
   "file_extension": ".py",
   "mimetype": "text/x-python",
   "name": "python",
   "nbconvert_exporter": "python",
   "pygments_lexer": "ipython3",
   "version": "3.10.6"
  }
 },
 "nbformat": 4,
 "nbformat_minor": 2
}
