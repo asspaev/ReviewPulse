{
 "cells": [
  {
   "cell_type": "markdown",
   "metadata": {},
   "source": [
    "# Импорты"
   ]
  },
  {
   "cell_type": "code",
   "execution_count": 2,
   "metadata": {},
   "outputs": [],
   "source": [
    "import os\n",
    "import pandas as pd\n",
    "import re"
   ]
  },
  {
   "cell_type": "markdown",
   "metadata": {},
   "source": [
    "# Предобработка данных"
   ]
  },
  {
   "cell_type": "markdown",
   "metadata": {},
   "source": [
    "Посмотрим на текущие данные. Для примера возьмём 1 таблицу каталога и 1 таблицу отзыва, чтобы понять из чего состоят данные"
   ]
  },
  {
   "cell_type": "code",
   "execution_count": 3,
   "metadata": {},
   "outputs": [],
   "source": [
    "df_catalog = pd.read_csv('./../data/clean/catalogs/obuvmuzhskayakedy_i_krossovki.csv')\n",
    "df_review = pd.read_csv('./../data/clean/reviews/obuvmuzhskayakedy_i_krossovki/6153738.csv')"
   ]
  },
  {
   "cell_type": "code",
   "execution_count": 5,
   "metadata": {},
   "outputs": [
    {
     "data": {
      "text/html": [
       "<div>\n",
       "<style scoped>\n",
       "    .dataframe tbody tr th:only-of-type {\n",
       "        vertical-align: middle;\n",
       "    }\n",
       "\n",
       "    .dataframe tbody tr th {\n",
       "        vertical-align: top;\n",
       "    }\n",
       "\n",
       "    .dataframe thead th {\n",
       "        text-align: right;\n",
       "    }\n",
       "</style>\n",
       "<table border=\"1\" class=\"dataframe\">\n",
       "  <thead>\n",
       "    <tr style=\"text-align: right;\">\n",
       "      <th></th>\n",
       "      <th>product_article</th>\n",
       "      <th>product_name</th>\n",
       "      <th>product_rating</th>\n",
       "      <th>count_reviews</th>\n",
       "    </tr>\n",
       "  </thead>\n",
       "  <tbody>\n",
       "    <tr>\n",
       "      <th>0</th>\n",
       "      <td>259646173</td>\n",
       "      <td>Кроссовки мужские зимние с мехом высокие</td>\n",
       "      <td>4,6</td>\n",
       "      <td>100</td>\n",
       "    </tr>\n",
       "    <tr>\n",
       "      <th>1</th>\n",
       "      <td>252655283</td>\n",
       "      <td>кроссовки зимние</td>\n",
       "      <td>4,7</td>\n",
       "      <td>100</td>\n",
       "    </tr>\n",
       "    <tr>\n",
       "      <th>2</th>\n",
       "      <td>250220847</td>\n",
       "      <td>Кроссовки утепленные с мехом</td>\n",
       "      <td>4,7</td>\n",
       "      <td>100</td>\n",
       "    </tr>\n",
       "    <tr>\n",
       "      <th>3</th>\n",
       "      <td>265989233</td>\n",
       "      <td>Кеды vans knu mid Зима</td>\n",
       "      <td>4,6</td>\n",
       "      <td>100</td>\n",
       "    </tr>\n",
       "    <tr>\n",
       "      <th>4</th>\n",
       "      <td>258468744</td>\n",
       "      <td>Кроссовки зимние высокие</td>\n",
       "      <td>4,3</td>\n",
       "      <td>100</td>\n",
       "    </tr>\n",
       "  </tbody>\n",
       "</table>\n",
       "</div>"
      ],
      "text/plain": [
       "   product_article                              product_name product_rating  \\\n",
       "0        259646173  Кроссовки мужские зимние с мехом высокие            4,6   \n",
       "1        252655283                          кроссовки зимние            4,7   \n",
       "2        250220847              Кроссовки утепленные с мехом            4,7   \n",
       "3        265989233                    Кеды vans knu mid Зима            4,6   \n",
       "4        258468744                  Кроссовки зимние высокие            4,3   \n",
       "\n",
       "   count_reviews  \n",
       "0            100  \n",
       "1            100  \n",
       "2            100  \n",
       "3            100  \n",
       "4            100  "
      ]
     },
     "execution_count": 5,
     "metadata": {},
     "output_type": "execute_result"
    }
   ],
   "source": [
    "df_catalog.head()"
   ]
  },
  {
   "cell_type": "code",
   "execution_count": 6,
   "metadata": {},
   "outputs": [
    {
     "data": {
      "text/html": [
       "<div>\n",
       "<style scoped>\n",
       "    .dataframe tbody tr th:only-of-type {\n",
       "        vertical-align: middle;\n",
       "    }\n",
       "\n",
       "    .dataframe tbody tr th {\n",
       "        vertical-align: top;\n",
       "    }\n",
       "\n",
       "    .dataframe thead th {\n",
       "        text-align: right;\n",
       "    }\n",
       "</style>\n",
       "<table border=\"1\" class=\"dataframe\">\n",
       "  <thead>\n",
       "    <tr style=\"text-align: right;\">\n",
       "      <th></th>\n",
       "      <th>review_rating</th>\n",
       "      <th>review_text</th>\n",
       "      <th>review_text_plus</th>\n",
       "      <th>review_text_minus</th>\n",
       "    </tr>\n",
       "  </thead>\n",
       "  <tbody>\n",
       "    <tr>\n",
       "      <th>0</th>\n",
       "      <td>5</td>\n",
       "      <td>Достоинства:Качество хорошее.</td>\n",
       "      <td>NaN</td>\n",
       "      <td>NaN</td>\n",
       "    </tr>\n",
       "    <tr>\n",
       "      <th>1</th>\n",
       "      <td>5</td>\n",
       "      <td>Достоинства:размер подошел, на ноге сидят отли...</td>\n",
       "      <td>NaN</td>\n",
       "      <td>NaN</td>\n",
       "    </tr>\n",
       "    <tr>\n",
       "      <th>2</th>\n",
       "      <td>5</td>\n",
       "      <td>Достоинства:Хороший кроссовки\\nНедостатки:Их нет</td>\n",
       "      <td>NaN</td>\n",
       "      <td>NaN</td>\n",
       "    </tr>\n",
       "    <tr>\n",
       "      <th>3</th>\n",
       "      <td>5</td>\n",
       "      <td>Достоинства:Мделано добротно, как т предшестве...</td>\n",
       "      <td>NaN</td>\n",
       "      <td>NaN</td>\n",
       "    </tr>\n",
       "    <tr>\n",
       "      <th>4</th>\n",
       "      <td>5</td>\n",
       "      <td>Достоинства:Товар хороший\\nНедостатки:Таблица ...</td>\n",
       "      <td>NaN</td>\n",
       "      <td>NaN</td>\n",
       "    </tr>\n",
       "  </tbody>\n",
       "</table>\n",
       "</div>"
      ],
      "text/plain": [
       "   review_rating                                        review_text  \\\n",
       "0              5                      Достоинства:Качество хорошее.   \n",
       "1              5  Достоинства:размер подошел, на ноге сидят отли...   \n",
       "2              5   Достоинства:Хороший кроссовки\\nНедостатки:Их нет   \n",
       "3              5  Достоинства:Мделано добротно, как т предшестве...   \n",
       "4              5  Достоинства:Товар хороший\\nНедостатки:Таблица ...   \n",
       "\n",
       "   review_text_plus  review_text_minus  \n",
       "0               NaN                NaN  \n",
       "1               NaN                NaN  \n",
       "2               NaN                NaN  \n",
       "3               NaN                NaN  \n",
       "4               NaN                NaN  "
      ]
     },
     "execution_count": 6,
     "metadata": {},
     "output_type": "execute_result"
    }
   ],
   "source": [
    "df_review.head()"
   ]
  },
  {
   "cell_type": "markdown",
   "metadata": {},
   "source": [
    "Поскольку результатом моей работы должен быть `Word Cloud`, то обработка должна включать в себя разделение review_text на 3 столбика:\n",
    "- Основной текст\n",
    "- Достоинства\n",
    "- Недостатки"
   ]
  },
  {
   "cell_type": "markdown",
   "metadata": {},
   "source": [
    "Пока выполним преобразования для одного каталога, так как он всего 1 на данный момент. В будущем автоматизируем для всех каталогов"
   ]
  },
  {
   "cell_type": "code",
   "execution_count": 18,
   "metadata": {},
   "outputs": [],
   "source": [
    "path_reviews = './../data/clean/reviews/obuvmuzhskayakedy_i_krossovki'\n",
    "files_reviews = os.listdir(path_reviews)\n",
    "\n",
    "# Функция для парсинга текста\n",
    "def parse_review(review):\n",
    "    # Убедимся, что входные данные являются строкой\n",
    "    if not isinstance(review, str):\n",
    "        review = \"\"  # Преобразуем в пустую строку, если это не строка\n",
    "\n",
    "    # Регулярные выражения для поиска каждого компонента\n",
    "    plus_pattern = r\"Достоинства:\\s*(.*?)(?=\\n|$)\"\n",
    "    minus_pattern = r\"Недостатки:\\s*(.*?)(?=\\n|$)\"\n",
    "    comment_pattern = r\"Комментарий:\\s*(.*?)(?=\\n|$)\"\n",
    "    \n",
    "    # Поиск компонентов с использованием регулярных выражений\n",
    "    review_plus = re.search(plus_pattern, review)\n",
    "    review_minus = re.search(minus_pattern, review)\n",
    "    review_comment = re.search(comment_pattern, review)\n",
    "\n",
    "    # Если не найдены стандартные комментарии, всё, что не в plus и minus, считаем за комментарий\n",
    "    if not review_comment:\n",
    "        review_comment = re.search(r\"^(?!Достоинства:|Недостатки:)(.*)\", review.strip())\n",
    "    \n",
    "    # Возвращаем найденные компоненты, если они есть, иначе \"Нет\"\n",
    "    return {\n",
    "        'review_text_plus': review_plus.group(1) if review_plus else 'Нет',\n",
    "        'review_text_minus': review_minus.group(1) if review_minus else 'Нет',\n",
    "        'review_text_comment': review_comment.group(1) if review_comment else 'Нет'\n",
    "    }\n",
    "\n",
    "for f_review in files_reviews:\n",
    "    df_reviews = pd.read_csv(f'{path_reviews}/{f_review}')\n",
    "    df_reviews = df_reviews.drop(['review_text_plus', 'review_text_minus'], axis=1)\n",
    "    parsed_reviews = df_reviews['review_text'].apply(parse_review).apply(pd.Series)\n",
    "    df_reviews = pd.concat([df_reviews, parsed_reviews], axis=1)\n",
    "    df_reviews.to_csv(f'./../data/processed/reviews/obuvmuzhskayakedy_i_krossovki/{f_review}', index=False)"
   ]
  },
  {
   "cell_type": "markdown",
   "metadata": {},
   "source": [
    "Объединим все отзывы в 1 таблицу"
   ]
  },
  {
   "cell_type": "code",
   "execution_count": 8,
   "metadata": {},
   "outputs": [],
   "source": [
    "path_reviews = './../data/processed/reviews/obuvmuzhskayakedy_i_krossovki'\n",
    "files_reviews = os.listdir(path_reviews)\n",
    "list_reviews_df = []\n",
    "\n",
    "for f_review in files_reviews:\n",
    "    df_review = pd.read_csv(f'{path_reviews}/{f_review}')\n",
    "    list_reviews_df.append(df_review)\n",
    "\n",
    "df_all_reviews = pd.concat(list_reviews_df, ignore_index=True)\n",
    "df_all_reviews = df_all_reviews.drop(['review_text.1'], axis=1)\n",
    "df_all_reviews.to_csv(f'./../data/processed/reviews/obuvmuzhskayakedy_i_krossovki/all.csv', index=False)"
   ]
  }
 ],
 "metadata": {
  "kernelspec": {
   "display_name": ".venv",
   "language": "python",
   "name": "python3"
  },
  "language_info": {
   "codemirror_mode": {
    "name": "ipython",
    "version": 3
   },
   "file_extension": ".py",
   "mimetype": "text/x-python",
   "name": "python",
   "nbconvert_exporter": "python",
   "pygments_lexer": "ipython3",
   "version": "3.10.6"
  }
 },
 "nbformat": 4,
 "nbformat_minor": 2
}
